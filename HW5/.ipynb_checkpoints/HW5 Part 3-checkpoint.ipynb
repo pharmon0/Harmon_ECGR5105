{
 "cells": [
  {
   "cell_type": "code",
   "execution_count": 1,
   "id": "7356cccd",
   "metadata": {},
   "outputs": [],
   "source": [
    "\"\"\"\n",
    "ECGR 5105 - Intro to Machine Learning\n",
    "Homework 5, Part 2\n",
    "Phillip Harmon\n",
    "\"\"\";\n"
   ]
  },
  {
   "cell_type": "code",
   "execution_count": 2,
   "id": "b8850f68",
   "metadata": {},
   "outputs": [],
   "source": [
    "import numpy as np\n",
    "import matplotlib.pyplot as plt\n",
    "import pandas as pd\n",
    "import torch\n",
    "from torch import optim, nn\n",
    "from collections import OrderedDict\n"
   ]
  },
  {
   "cell_type": "code",
   "execution_count": 3,
   "id": "9a6cded8",
   "metadata": {},
   "outputs": [],
   "source": [
    "#Normalization Functions\n",
    "def normalize(x, xmax, xmin):\n",
    "    return (x - xmin) / (xmax - xmin)\n",
    "\n",
    "def denormalize(x, xmax, xmin):\n",
    "    return (x * (xmax - xmin)) + xmin\n"
   ]
  },
  {
   "cell_type": "code",
   "execution_count": 4,
   "id": "4ccd2246",
   "metadata": {},
   "outputs": [],
   "source": [
    "#helper for plotting visualization of training data\n",
    "def training_visual(loss_t, loss_v, model, params, x, y):\n",
    "    plt.rcParams[\"figure.figsize\"] = (10,5)\n",
    "    plt.grid()\n",
    "    plt.xlabel('Epochs')\n",
    "    plt.ylabel('MSE Loss')\n",
    "    plt.title('Convergence of Training')\n",
    "    plt.plot(range(1,len(loss_t) + 1),loss_t, color='blue', label='Training Loss')\n",
    "    plt.plot(range(1,len(loss_t) + 1),loss_v, color='red', label='Validation Loss')\n",
    "    plt.legend()\n",
    "    plt.ylim([0.0,0.25])\n",
    "    plt.show()\n",
    "    print(\"Final Training Loss = {} | Final Validation Loss = {}\".format(loss_t[-1], loss_v[-1]))\n",
    "    \n",
    "    x_n = normalize(x, x.max(0,keepdim=True)[0], x.min(0,keepdim=True)[0])\n",
    "    y_n = normalize(y, y.max(0,keepdim=True)[0], y.min(0,keepdim=True)[0])\n",
    "    print(\"Model MSE Loss for whole dataset = {}\".format(cost(model(x_n,params) , y_n)))\n"
   ]
  },
  {
   "cell_type": "code",
   "execution_count": 13,
   "id": "907851f2",
   "metadata": {},
   "outputs": [],
   "source": [
    "#Training Loop Function\n",
    "def training_loop(x_t, y_t, x_v, y_v, model, loss_function, optimizer, epochs):\n",
    "    training_loss = []\n",
    "    validation_loss = []\n",
    "    \n",
    "    cost_function = loss_function()\n",
    "    \n",
    "    for epoch in range(1, epochs + 1):\n",
    "        \n",
    "        loss_t = cost_function( model(x_t), y_t)\n",
    "        loss_v = cost_function( model(x_v), y_v)\n",
    "        \n",
    "        optimizer.zero_grad()\n",
    "        loss_t.backward()\n",
    "        optimizer.step()\n",
    "        \n",
    "        training_loss.append(float(loss_t))\n",
    "        validation_loss.append(float(loss_v))\n",
    "        \n",
    "        if epoch <= 3 or epoch % 10 == 0:\n",
    "            print('Epoch {} | Training Loss = {} | Validation Loss = {}'.format(epoch, loss_t, loss_v))\n",
    "    \n",
    "    return training_loss, validation_loss\n"
   ]
  },
  {
   "cell_type": "code",
   "execution_count": 14,
   "id": "2ef9894f",
   "metadata": {},
   "outputs": [],
   "source": [
    "#Prepare the inputs\n",
    "\n",
    "#Read in the CSV into a dataframe\n",
    "csvData = pd.read_csv(\"./Housing.csv\")\n",
    "csvCols = len(csvData.columns)\n",
    "csvRows = len(csvData)\n",
    "\n",
    "#Collect Data\n",
    "dataLabels = ['price','area','bedrooms','bathrooms','stories','parking']\n",
    "data = csvData[dataLabels]\n",
    "\n",
    "y_raw = data.pop('price').values\n",
    "x_raw = data.values\n",
    "\n",
    "y_raw = torch.from_numpy(y_raw)\n",
    "x_raw = torch.from_numpy(x_raw)\n",
    "\n",
    "#Cleaning the inputs\n",
    "x = normalize(x_raw, x_raw.max(0,keepdim=True)[0], x_raw.min(0,keepdim=True)[0])\n",
    "y = normalize(y_raw, y_raw.max(0,keepdim=True)[0], y_raw.min(0,keepdim=True)[0])\n",
    "\n",
    "#Train/Test Split\n",
    "validation_percent = 0.2\n",
    "split = int(validation_percent * x.shape[0])\n",
    "shuffle_index = torch.randperm(x.shape[0])\n",
    "index_t = shuffle_index[:-split]\n",
    "index_v = shuffle_index[-split:]\n",
    "x_t = x[index_t]\n",
    "y_t = y[index_t]\n",
    "x_v = x[index_v]\n",
    "y_v = y[index_v]\n"
   ]
  },
  {
   "cell_type": "code",
   "execution_count": 17,
   "id": "ae7fada1",
   "metadata": {
    "scrolled": false
   },
   "outputs": [
    {
     "name": "stdout",
     "output_type": "stream",
     "text": [
      "Epoch 1 | Training Loss = 0.032816532999277115 | Validation Loss = 0.03928985074162483\n",
      "Epoch 2 | Training Loss = 0.027025366201996803 | Validation Loss = 0.03602663800120354\n",
      "Epoch 3 | Training Loss = 0.026739154011011124 | Validation Loss = 0.03785112872719765\n",
      "Epoch 10 | Training Loss = 0.025064371526241302 | Validation Loss = 0.0344296395778656\n",
      "Epoch 20 | Training Loss = 0.02441892772912979 | Validation Loss = 0.03567054495215416\n",
      "Epoch 30 | Training Loss = 0.0241562370210886 | Validation Loss = 0.03513497859239578\n",
      "Epoch 40 | Training Loss = 0.024122536182403564 | Validation Loss = 0.034501951187849045\n",
      "Epoch 50 | Training Loss = 0.02408635802567005 | Validation Loss = 0.034598782658576965\n",
      "Epoch 60 | Training Loss = 0.024074718356132507 | Validation Loss = 0.03477177768945694\n",
      "Epoch 70 | Training Loss = 0.024074364453554153 | Validation Loss = 0.034790076315402985\n",
      "Epoch 80 | Training Loss = 0.024072183296084404 | Validation Loss = 0.03475039079785347\n",
      "Epoch 90 | Training Loss = 0.024071166291832924 | Validation Loss = 0.03472662717103958\n",
      "Epoch 100 | Training Loss = 0.024071091786026955 | Validation Loss = 0.03471912816166878\n",
      "Epoch 110 | Training Loss = 0.024070989340543747 | Validation Loss = 0.034716084599494934\n",
      "Epoch 120 | Training Loss = 0.02407093346118927 | Validation Loss = 0.03471579775214195\n",
      "Epoch 130 | Training Loss = 0.024070879444479942 | Validation Loss = 0.034716829657554626\n",
      "Epoch 140 | Training Loss = 0.024070819839835167 | Validation Loss = 0.0347173847258091\n",
      "Epoch 150 | Training Loss = 0.02407076396048069 | Validation Loss = 0.0347176231443882\n",
      "Epoch 160 | Training Loss = 0.024070706218481064 | Validation Loss = 0.03471774235367775\n",
      "Epoch 170 | Training Loss = 0.024070648476481438 | Validation Loss = 0.0347176119685173\n",
      "Epoch 180 | Training Loss = 0.024070588871836662 | Validation Loss = 0.034717392176389694\n",
      "Epoch 190 | Training Loss = 0.024070532992482185 | Validation Loss = 0.03471722453832626\n",
      "Epoch 200 | Training Loss = 0.02407047338783741 | Validation Loss = 0.0347171351313591\n"
     ]
    },
    {
     "ename": "NameError",
     "evalue": "name 'model' is not defined",
     "output_type": "error",
     "traceback": [
      "\u001b[1;31m---------------------------------------------------------------------------\u001b[0m",
      "\u001b[1;31mNameError\u001b[0m                                 Traceback (most recent call last)",
      "\u001b[1;32m~\\AppData\\Local\\Temp/ipykernel_19176/750701378.py\u001b[0m in \u001b[0;36m<module>\u001b[1;34m\u001b[0m\n\u001b[0;32m     22\u001b[0m \u001b[1;33m\u001b[0m\u001b[0m\n\u001b[0;32m     23\u001b[0m \u001b[1;33m\u001b[0m\u001b[0m\n\u001b[1;32m---> 24\u001b[1;33m \u001b[0mtraining_visual\u001b[0m\u001b[1;33m(\u001b[0m\u001b[0mloss_t\u001b[0m\u001b[1;33m,\u001b[0m \u001b[0mloss_v\u001b[0m\u001b[1;33m,\u001b[0m \u001b[0mmodel\u001b[0m\u001b[1;33m,\u001b[0m \u001b[0mparams\u001b[0m\u001b[1;33m,\u001b[0m \u001b[0mx\u001b[0m\u001b[1;33m,\u001b[0m \u001b[0my\u001b[0m\u001b[1;33m)\u001b[0m\u001b[1;33m\u001b[0m\u001b[1;33m\u001b[0m\u001b[0m\n\u001b[0m",
      "\u001b[1;31mNameError\u001b[0m: name 'model' is not defined"
     ]
    }
   ],
   "source": [
    "#Define Constructs\n",
    "epochs = 200\n",
    "learn_rate = 1e-2\n",
    "neural_net = nn.Sequential(OrderedDict([\n",
    "    ('Layer_1_Model', nn.Linear(5,8)),\n",
    "    ('Layer_1_Activation', nn.Tanh()),\n",
    "    ('Output_Model', nn.Linear(8,1))\n",
    "    ]))\n",
    "optimizer = optim.Adam(neural_net.parameters(), lr=learn_rate)\n",
    "\n",
    "#Perform the Training\n",
    "loss_t, loss_v = training_loop(\n",
    "    epochs = epochs,\n",
    "    optimizer = optimizer,\n",
    "    model = neural_net,\n",
    "    loss_function = nn.MSELoss,\n",
    "    x_t = x_t,\n",
    "    x_v = x_v,\n",
    "    y_t = y_t,\n",
    "    y_v = y_v\n",
    "    );\n",
    "\n",
    "\n",
    "training_visual(loss_t, loss_v, model, x, y)"
   ]
  },
  {
   "cell_type": "code",
   "execution_count": null,
   "id": "dd26c5e6",
   "metadata": {},
   "outputs": [],
   "source": []
  },
  {
   "cell_type": "code",
   "execution_count": null,
   "id": "8442085a",
   "metadata": {},
   "outputs": [],
   "source": []
  }
 ],
 "metadata": {
  "kernelspec": {
   "display_name": "Python 3 (ipykernel)",
   "language": "python",
   "name": "python3"
  },
  "language_info": {
   "codemirror_mode": {
    "name": "ipython",
    "version": 3
   },
   "file_extension": ".py",
   "mimetype": "text/x-python",
   "name": "python",
   "nbconvert_exporter": "python",
   "pygments_lexer": "ipython3",
   "version": "3.9.12"
  }
 },
 "nbformat": 4,
 "nbformat_minor": 5
}
