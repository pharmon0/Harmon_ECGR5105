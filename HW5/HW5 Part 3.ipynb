{
 "cells": [
  {
   "cell_type": "code",
   "execution_count": 1,
   "id": "16df93a7",
   "metadata": {},
   "outputs": [],
   "source": [
    "\"\"\"\n",
    "ECGR 5105 - Intro to Machine Learning\n",
    "Homework 5, Part 2\n",
    "Phillip Harmon\n",
    "\"\"\";\n"
   ]
  },
  {
   "cell_type": "code",
   "execution_count": 2,
   "id": "c61750e3",
   "metadata": {},
   "outputs": [],
   "source": [
    "import numpy as np\n",
    "import matplotlib.pyplot as plt\n",
    "import pandas as pd\n",
    "import torch\n",
    "from torch import optim, nn\n",
    "from collections import OrderedDict\n"
   ]
  },
  {
   "cell_type": "code",
   "execution_count": 3,
   "id": "c6877373",
   "metadata": {},
   "outputs": [],
   "source": [
    "#Normalization Functions\n",
    "def normalize(x, xmax, xmin):\n",
    "    return (x - xmin) / (xmax - xmin)\n",
    "\n",
    "def denormalize(x, xmax, xmin):\n",
    "    return (x * (xmax - xmin)) + xmin\n"
   ]
  },
  {
   "cell_type": "code",
   "execution_count": 4,
   "id": "69c663bb",
   "metadata": {},
   "outputs": [],
   "source": [
    "#helper for plotting visualization of training data\n",
    "def training_visual(loss_t, loss_v, model, loss_function, x, y):\n",
    "    cost_function = loss_function()\n",
    "    plt.rcParams[\"figure.figsize\"] = (10,5)\n",
    "    plt.grid()\n",
    "    plt.xlabel('Epochs')\n",
    "    plt.ylabel('MSE Loss')\n",
    "    plt.title('Convergence of Training')\n",
    "    plt.plot(range(1,len(loss_t) + 1),loss_t, color='blue', label='Training Loss')\n",
    "    plt.plot(range(1,len(loss_t) + 1),loss_v, color='red', label='Validation Loss')\n",
    "    plt.legend()\n",
    "    plt.ylim([0.0,0.25])\n",
    "    plt.show()\n",
    "    print(\"Final Training Loss = {} | Final Validation Loss = {}\".format(loss_t[-1], loss_v[-1]))\n",
    "    \n",
    "    x_n = normalize(x, x.max(0,keepdim=True)[0], x.min(0,keepdim=True)[0])\n",
    "    y_n = normalize(y, y.max(0,keepdim=True)[0], y.min(0,keepdim=True)[0])\n",
    "    print(\"Model MSE Loss for whole dataset = {}\".format(cost_function(model(x_n) , y_n)))\n"
   ]
  },
  {
   "cell_type": "code",
   "execution_count": 5,
   "id": "1d23c52b",
   "metadata": {},
   "outputs": [],
   "source": [
    "#Training Loop Function\n",
    "def training_loop(x_t, y_t, x_v, y_v, model, loss_function, optimizer, epochs):\n",
    "    training_loss = []\n",
    "    validation_loss = []\n",
    "    \n",
    "    cost_function = loss_function()\n",
    "    \n",
    "    for epoch in range(1, epochs + 1):\n",
    "        \n",
    "        loss_t = cost_function( model(x_t), y_t)\n",
    "        loss_v = cost_function( model(x_v), y_v)\n",
    "        \n",
    "        optimizer.zero_grad()\n",
    "        loss_t.backward()\n",
    "        optimizer.step()\n",
    "        \n",
    "        training_loss.append(float(loss_t))\n",
    "        validation_loss.append(float(loss_v))\n",
    "        \n",
    "        if epoch <= 3 or epoch % 50 == 0:\n",
    "            print('Epoch {} | Training Loss = {} | Validation Loss = {}'.format(epoch, loss_t, loss_v))\n",
    "    \n",
    "    return training_loss, validation_loss\n"
   ]
  },
  {
   "cell_type": "code",
   "execution_count": 6,
   "id": "71047769",
   "metadata": {},
   "outputs": [],
   "source": [
    "#Prepare the inputs\n",
    "\n",
    "#Read in the CSV into a dataframe\n",
    "csvData = pd.read_csv(\"./Housing.csv\")\n",
    "csvCols = len(csvData.columns)\n",
    "csvRows = len(csvData)\n",
    "\n",
    "#Collect Data\n",
    "dataLabels = ['price','area','bedrooms','bathrooms','stories','parking']\n",
    "data = csvData[dataLabels]\n",
    "\n",
    "y_raw = data.pop('price').values\n",
    "x_raw = data.values\n",
    "\n",
    "y_raw = torch.from_numpy(y_raw)\n",
    "x_raw = torch.from_numpy(x_raw)\n",
    "\n",
    "#Cleaning the inputs\n",
    "x = normalize(x_raw, x_raw.max(0,keepdim=True)[0], x_raw.min(0,keepdim=True)[0])\n",
    "y = normalize(y_raw, y_raw.max(0,keepdim=True)[0], y_raw.min(0,keepdim=True)[0])\n",
    "\n",
    "#Train/Test Split\n",
    "validation_percent = 0.2\n",
    "split = int(validation_percent * x.shape[0])\n",
    "shuffle_index = torch.randperm(x.shape[0])\n",
    "index_t = shuffle_index[:-split]\n",
    "index_v = shuffle_index[-split:]\n",
    "x_t = x[index_t]\n",
    "y_t = y[index_t]\n",
    "x_v = x[index_v]\n",
    "y_v = y[index_v]\n"
   ]
  },
  {
   "cell_type": "code",
   "execution_count": 7,
   "id": "a2a5c8c7",
   "metadata": {
    "scrolled": false
   },
   "outputs": [],
   "source": [
    "operation = \"Adam Optimizer, 1-layer net, LR=1e-3\"\n",
    "#Define Constructs\n",
    "epochs = 200\n",
    "learn_rate = 1e-3\n",
    "neural_net = nn.Sequential(OrderedDict([\n",
    "    ('Layer_1_Model', nn.Linear(5,8)),\n",
    "    ('Layer_1_Activation', nn.Tanh()),\n",
    "    ('Output_Model', nn.Linear(8,1))\n",
    "    ]))\n",
    "optimizer = optim.Adam(neural_net.parameters(), lr=learn_rate)\n"
   ]
  },
  {
   "cell_type": "code",
   "execution_count": 8,
   "id": "4adf66c2",
   "metadata": {},
   "outputs": [
    {
     "name": "stdout",
     "output_type": "stream",
     "text": [
      "Adam Optimizer, 1-layer net, LR=1e-3\n",
      "Epoch 1 | Training Loss = 0.02815861813724041 | Validation Loss = 0.03302649408578873\n",
      "Epoch 2 | Training Loss = 0.027996810153126717 | Validation Loss = 0.03276772424578667\n",
      "Epoch 3 | Training Loss = 0.02789880894124508 | Validation Loss = 0.03260395675897598\n",
      "Epoch 50 | Training Loss = 0.025389045476913452 | Validation Loss = 0.02988007850944996\n",
      "Epoch 100 | Training Loss = 0.02530243806540966 | Validation Loss = 0.029824895784258842\n",
      "Epoch 150 | Training Loss = 0.025298453867435455 | Validation Loss = 0.02982637658715248"
     ]
    },
    {
     "name": "stderr",
     "output_type": "stream",
     "text": [
      "G:\\GprogramFiles\\Conda\\lib\\site-packages\\torch\\nn\\modules\\loss.py:536: UserWarning: Using a target size (torch.Size([436])) that is different to the input size (torch.Size([436, 1])). This will likely lead to incorrect results due to broadcasting. Please ensure they have the same size.\n",
      "  return F.mse_loss(input, target, reduction=self.reduction)\n",
      "G:\\GprogramFiles\\Conda\\lib\\site-packages\\torch\\nn\\modules\\loss.py:536: UserWarning: Using a target size (torch.Size([109])) that is different to the input size (torch.Size([109, 1])). This will likely lead to incorrect results due to broadcasting. Please ensure they have the same size.\n",
      "  return F.mse_loss(input, target, reduction=self.reduction)\n"
     ]
    },
    {
     "name": "stdout",
     "output_type": "stream",
     "text": [
      "\n",
      "Epoch 200 | Training Loss = 0.025295691564679146 | Validation Loss = 0.02982373721897602\n",
      "Wall time: 252 ms\n"
     ]
    }
   ],
   "source": [
    "%%time\n",
    "print(operation)\n",
    "#Perform the Training\n",
    "loss_t, loss_v = training_loop(\n",
    "    epochs = epochs,\n",
    "    optimizer = optimizer,\n",
    "    model = neural_net,\n",
    "    loss_function = nn.MSELoss,\n",
    "    x_t = x_t,\n",
    "    x_v = x_v,\n",
    "    y_t = y_t,\n",
    "    y_v = y_v)\n"
   ]
  },
  {
   "cell_type": "code",
   "execution_count": 9,
   "id": "2eff2cbb",
   "metadata": {},
   "outputs": [
    {
     "data": {
      "image/png": "[encoded data removed]",
      "text/plain": [
       "<Figure size 720x360 with 1 Axes>"
      ]
     },
     "metadata": {
      "needs_background": "light"
     },
     "output_type": "display_data"
    },
    {
     "name": "stdout",
     "output_type": "stream",
     "text": [
      "Final Training Loss = 0.025295691564679146 | Final Validation Loss = 0.02982373721897602\n",
      "Model MSE Loss for whole dataset = 0.02620089240372181\n"
     ]
    },
    {
     "name": "stderr",
     "output_type": "stream",
     "text": [
      "G:\\GprogramFiles\\Conda\\lib\\site-packages\\torch\\nn\\modules\\loss.py:536: UserWarning: Using a target size (torch.Size([545])) that is different to the input size (torch.Size([545, 1])). This will likely lead to incorrect results due to broadcasting. Please ensure they have the same size.\n",
      "  return F.mse_loss(input, target, reduction=self.reduction)\n"
     ]
    }
   ],
   "source": [
    "training_visual(\n",
    "    loss_t = loss_t,\n",
    "    loss_v = loss_v,\n",
    "    model = neural_net,\n",
    "    loss_function = nn.MSELoss,\n",
    "    x = x_raw,\n",
    "    y = y_raw)\n"
   ]
  },
  {
   "cell_type": "code",
   "execution_count": 10,
   "id": "5dd1a131",
   "metadata": {},
   "outputs": [],
   "source": [
    "operation = \"SGD Optimizer, 1-layer net, LR=1e-3\"\n",
    "#Define Constructs\n",
    "epochs = 200\n",
    "learn_rate = 1e-2\n",
    "neural_net = nn.Sequential(OrderedDict([\n",
    "    ('Layer_1_Model', nn.Linear(5,8)),\n",
    "    ('Layer_1_Activation', nn.Tanh()),\n",
    "    ('Output_Model', nn.Linear(8,1))\n",
    "    ]))\n",
    "optimizer = optim.SGD(neural_net.parameters(), lr=learn_rate)\n"
   ]
  },
  {
   "cell_type": "code",
   "execution_count": 11,
   "id": "033ef423",
   "metadata": {},
   "outputs": [
    {
     "name": "stdout",
     "output_type": "stream",
     "text": [
      "SGD Optimizer, 1-layer net, LR=1e-3\n",
      "Epoch 1 | Training Loss = 0.05540982633829117 | Validation Loss = 0.05919010937213898\n",
      "Epoch 2 | Training Loss = 0.053433191031217575 | Validation Loss = 0.05722943693399429\n",
      "Epoch 3 | Training Loss = 0.05161477252840996 | Validation Loss = 0.055426158010959625\n",
      "Epoch 50 | Training Loss = 0.030822787433862686 | Validation Loss = 0.034938037395477295\n",
      "Epoch 100 | Training Loss = 0.029939431697130203 | Validation Loss = 0.03414454683661461\n",
      "Epoch 150 | Training Loss = 0.02950666844844818 | Validation Loss = 0.0337643064558506\n",
      "Epoch 200 | Training Loss = 0.02912852168083191 | Validation Loss = 0.03342767059803009\n",
      "Wall time: 163 ms\n"
     ]
    }
   ],
   "source": [
    "%%time\n",
    "print(operation)\n",
    "#Perform the Training\n",
    "loss_t, loss_v = training_loop(\n",
    "    epochs = epochs,\n",
    "    optimizer = optimizer,\n",
    "    model = neural_net,\n",
    "    loss_function = nn.MSELoss,\n",
    "    x_t = x_t,\n",
    "    x_v = x_v,\n",
    "    y_t = y_t,\n",
    "    y_v = y_v)\n"
   ]
  },
  {
   "cell_type": "code",
   "execution_count": 12,
   "id": "52859739",
   "metadata": {},
   "outputs": [
    {
     "data": {
      "image/png": "[encoded data removed]",
      "text/plain": [
       "<Figure size 720x360 with 1 Axes>"
      ]
     },
     "metadata": {
      "needs_background": "light"
     },
     "output_type": "display_data"
    },
    {
     "name": "stdout",
     "output_type": "stream",
     "text": [
      "Final Training Loss = 0.02912852168083191 | Final Validation Loss = 0.03342767059803009\n",
      "Model MSE Loss for whole dataset = 0.029983295127749443\n"
     ]
    }
   ],
   "source": [
    "training_visual(\n",
    "    loss_t = loss_t,\n",
    "    loss_v = loss_v,\n",
    "    model = neural_net,\n",
    "    loss_function = nn.MSELoss,\n",
    "    x = x_raw,\n",
    "    y = y_raw)\n"
   ]
  },
  {
   "cell_type": "code",
   "execution_count": 13,
   "id": "c40c0d33",
   "metadata": {},
   "outputs": [],
   "source": [
    "#Adam is Better!\n",
    "#Let's try it for a bigger neural net!\n"
   ]
  },
  {
   "cell_type": "code",
   "execution_count": 14,
   "id": "0ff5acf9",
   "metadata": {},
   "outputs": [],
   "source": [
    "operation = \"Adam Optimizer, 3-layer net [in->8->13->5->out], LR=1e-3\"\n",
    "#Define Constructs\n",
    "epochs = 200\n",
    "learn_rate = 1e-3\n",
    "neural_net = nn.Sequential(OrderedDict([\n",
    "    ('Layer_1_Model', nn.Linear(5,8)),\n",
    "    ('Layer_1_Activation', nn.Tanh()),\n",
    "    ('Layer_2_Model', nn.Linear(8,13)),\n",
    "    ('Layer_2_Activation', nn.Tanh()),\n",
    "    ('Layer_3_Model', nn.Linear(13,5)),\n",
    "    ('Layer_3_Activation', nn.Tanh()),\n",
    "    ('Output_Model', nn.Linear(5,1))\n",
    "    ]))\n",
    "optimizer = optim.Adam(neural_net.parameters(), lr=learn_rate)\n"
   ]
  },
  {
   "cell_type": "code",
   "execution_count": 15,
   "id": "1ba67853",
   "metadata": {},
   "outputs": [
    {
     "name": "stdout",
     "output_type": "stream",
     "text": [
      "Adam Optimizer, 3-layer net [in->8->13->5->out], LR=1e-3\n",
      "Epoch 1 | Training Loss = 0.10475734621286392 | Validation Loss = 0.1098516434431076\n",
      "Epoch 2 | Training Loss = 0.09903859347105026 | Validation Loss = 0.1041104719042778\n",
      "Epoch 3 | Training Loss = 0.09356650710105896 | Validation Loss = 0.09861686825752258\n",
      "Epoch 50 | Training Loss = 0.025937208905816078 | Validation Loss = 0.03057980164885521\n",
      "Epoch 100 | Training Loss = 0.02541847713291645 | Validation Loss = 0.029992496594786644\n",
      "Epoch 150 | Training Loss = 0.025350719690322876 | Validation Loss = 0.029882799834012985\n",
      "Epoch 200 | Training Loss = 0.025321977213025093 | Validation Loss = 0.02984205074608326\n",
      "Wall time: 317 ms\n"
     ]
    }
   ],
   "source": [
    "%%time\n",
    "print(operation)\n",
    "#Perform the Training\n",
    "loss_t, loss_v = training_loop(\n",
    "    epochs = epochs,\n",
    "    optimizer = optimizer,\n",
    "    model = neural_net,\n",
    "    loss_function = nn.MSELoss,\n",
    "    x_t = x_t,\n",
    "    x_v = x_v,\n",
    "    y_t = y_t,\n",
    "    y_v = y_v)\n"
   ]
  },
  {
   "cell_type": "code",
   "execution_count": 16,
   "id": "bddfe1df",
   "metadata": {},
   "outputs": [
    {
     "data": {
      "image/png": "[encoded data removed]",
      "text/plain": [
       "<Figure size 720x360 with 1 Axes>"
      ]
     },
     "metadata": {
      "needs_background": "light"
     },
     "output_type": "display_data"
    },
    {
     "name": "stdout",
     "output_type": "stream",
     "text": [
      "Final Training Loss = 0.025321977213025093 | Final Validation Loss = 0.02984205074608326\n",
      "Model MSE Loss for whole dataset = 0.026226604357361794\n"
     ]
    }
   ],
   "source": [
    "training_visual(\n",
    "    loss_t = loss_t,\n",
    "    loss_v = loss_v,\n",
    "    model = neural_net,\n",
    "    loss_function = nn.MSELoss,\n",
    "    x = x_raw,\n",
    "    y = y_raw)\n"
   ]
  },
  {
   "cell_type": "code",
   "execution_count": 17,
   "id": "db74790d",
   "metadata": {},
   "outputs": [],
   "source": [
    "operation = \"Adam Optimizer, 3-layer net [in->13->21->5->out], LR=1e-3\"\n",
    "#Define Constructs\n",
    "epochs = 200\n",
    "learn_rate = 1e-3\n",
    "neural_net = nn.Sequential(OrderedDict([\n",
    "    ('Layer_1_Model', nn.Linear(5,13)),\n",
    "    ('Layer_1_Activation', nn.Tanh()),\n",
    "    ('Layer_2_Model', nn.Linear(13,21)),\n",
    "    ('Layer_2_Activation', nn.Tanh()),\n",
    "    ('Layer_3_Model', nn.Linear(21,5)),\n",
    "    ('Layer_3_Activation', nn.Tanh()),\n",
    "    ('Output_Model', nn.Linear(5,1))\n",
    "    ]))\n",
    "optimizer = optim.Adam(neural_net.parameters(), lr=learn_rate)\n"
   ]
  },
  {
   "cell_type": "code",
   "execution_count": 18,
   "id": "0eb1e7c7",
   "metadata": {},
   "outputs": [
    {
     "name": "stdout",
     "output_type": "stream",
     "text": [
      "Adam Optimizer, 3-layer net [in->13->21->5->out], LR=1e-3\n",
      "Epoch 1 | Training Loss = 0.08736804872751236 | Validation Loss = 0.09115060418844223\n",
      "Epoch 2 | Training Loss = 0.08022507280111313 | Validation Loss = 0.08406160771846771\n",
      "Epoch 3 | Training Loss = 0.07354738563299179 | Validation Loss = 0.07743436098098755\n",
      "Epoch 50 | Training Loss = 0.025625130161643028 | Validation Loss = 0.03006667084991932\n",
      "Epoch 100 | Training Loss = 0.0254366397857666 | Validation Loss = 0.02992679923772812\n",
      "Epoch 150 | Training Loss = 0.025343503803014755 | Validation Loss = 0.029858145862817764\n",
      "Epoch 200 | Training Loss = 0.025298304855823517 | Validation Loss = 0.02982133999466896\n",
      "Wall time: 333 ms\n"
     ]
    }
   ],
   "source": [
    "%%time\n",
    "print(operation)\n",
    "#Perform the Training\n",
    "loss_t, loss_v = training_loop(\n",
    "    epochs = epochs,\n",
    "    optimizer = optimizer,\n",
    "    model = neural_net,\n",
    "    loss_function = nn.MSELoss,\n",
    "    x_t = x_t,\n",
    "    x_v = x_v,\n",
    "    y_t = y_t,\n",
    "    y_v = y_v)\n"
   ]
  },
  {
   "cell_type": "code",
   "execution_count": 19,
   "id": "bd4ad615",
   "metadata": {},
   "outputs": [
    {
     "data": {
      "image/png": "[encoded data removed]",
      "text/plain": [
       "<Figure size 720x360 with 1 Axes>"
      ]
     },
     "metadata": {
      "needs_background": "light"
     },
     "output_type": "display_data"
    },
    {
     "name": "stdout",
     "output_type": "stream",
     "text": [
      "Final Training Loss = 0.025298304855823517 | Final Validation Loss = 0.02982133999466896\n",
      "Model MSE Loss for whole dataset = 0.026202790439128876\n"
     ]
    }
   ],
   "source": [
    "training_visual(\n",
    "    loss_t = loss_t,\n",
    "    loss_v = loss_v,\n",
    "    model = neural_net,\n",
    "    loss_function = nn.MSELoss,\n",
    "    x = x_raw,\n",
    "    y = y_raw)\n"
   ]
  },
  {
   "cell_type": "code",
   "execution_count": null,
   "id": "ef676584",
   "metadata": {},
   "outputs": [],
   "source": []
  }
 ],
 "metadata": {
  "kernelspec": {
   "display_name": "Python 3 (ipykernel)",
   "language": "python",
   "name": "python3"
  },
  "language_info": {
   "codemirror_mode": {
    "name": "ipython",
    "version": 3
   },
   "file_extension": ".py",
   "mimetype": "text/x-python",
   "name": "python",
   "nbconvert_exporter": "python",
   "pygments_lexer": "ipython3",
   "version": "3.9.12"
  }
 },
 "nbformat": 4,
 "nbformat_minor": 5
}
