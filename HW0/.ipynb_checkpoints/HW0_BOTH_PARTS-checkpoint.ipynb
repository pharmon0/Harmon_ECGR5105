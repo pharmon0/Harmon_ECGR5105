{
 "cells": [
  {
   "cell_type": "code",
   "execution_count": 1,
   "id": "1c5fe487",
   "metadata": {},
   "outputs": [],
   "source": [
    "import numpy as np\n",
    "import pandas as pd\n",
    "import matplotlib.pyplot as plt\n"
   ]
  },
  {
   "cell_type": "code",
   "execution_count": 2,
   "id": "b7cd5e26",
   "metadata": {},
   "outputs": [],
   "source": [
    "#function to calculate the loss of a model\n",
    "def get_loss(x, y, theta):\n",
    "    \"\"\"x is input data (m x n)\n",
    "       y is ground truths (m x 1)\n",
    "       theta is model params (n x 1)\"\"\"\n",
    "    h = x.dot(theta)\n",
    "    error = np.subtract(h, y)\n",
    "    sqError = np.square(error)\n",
    "    sumSqError = np.sum(sqError)\n",
    "    avgSqError = sumSqError /(2 * len(y)) \n",
    "    return avgSqError\n"
   ]
  },
  {
   "cell_type": "code",
   "execution_count": 3,
   "id": "d830f262",
   "metadata": {},
   "outputs": [],
   "source": [
    "#Function to run the gradient descent algorithm\n",
    "def gradient_descent(x, y, theta, a, iterations):\n",
    "    \"\"\"x is input data (m x n)\n",
    "       y is ground truths (m x 1)\n",
    "       theta is model params (n x 1)\n",
    "       a is learn rate (scalar)\n",
    "       iterations. duh. (scalar)\"\"\"\n",
    "    losses = np.zeros(iterations)\n",
    "    for i in range(iterations):\n",
    "        h = x.dot(theta)\n",
    "        error = np.subtract(h, y)\n",
    "        delta = x.transpose().dot(error)\n",
    "        grad = delta / len(y) \n",
    "        theta = theta - (a * grad)\n",
    "        losses[i] = get_loss(x, y, theta)\n",
    "    return theta, losses\n"
   ]
  },
  {
   "cell_type": "code",
   "execution_count": 4,
   "id": "f348bbb8",
   "metadata": {},
   "outputs": [
    {
     "data": {
      "text/html": [
       "<div>\n",
       "<style scoped>\n",
       "    .dataframe tbody tr th:only-of-type {\n",
       "        vertical-align: middle;\n",
       "    }\n",
       "\n",
       "    .dataframe tbody tr th {\n",
       "        vertical-align: top;\n",
       "    }\n",
       "\n",
       "    .dataframe thead th {\n",
       "        text-align: right;\n",
       "    }\n",
       "</style>\n",
       "<table border=\"1\" class=\"dataframe\">\n",
       "  <thead>\n",
       "    <tr style=\"text-align: right;\">\n",
       "      <th></th>\n",
       "      <th>X1</th>\n",
       "      <th>X2</th>\n",
       "      <th>X3</th>\n",
       "      <th>Y</th>\n",
       "    </tr>\n",
       "  </thead>\n",
       "  <tbody>\n",
       "    <tr>\n",
       "      <th>0</th>\n",
       "      <td>0.000000</td>\n",
       "      <td>3.440000</td>\n",
       "      <td>0.440000</td>\n",
       "      <td>4.387545</td>\n",
       "    </tr>\n",
       "    <tr>\n",
       "      <th>1</th>\n",
       "      <td>0.040404</td>\n",
       "      <td>0.134949</td>\n",
       "      <td>0.888485</td>\n",
       "      <td>2.679650</td>\n",
       "    </tr>\n",
       "    <tr>\n",
       "      <th>2</th>\n",
       "      <td>0.080808</td>\n",
       "      <td>0.829899</td>\n",
       "      <td>1.336970</td>\n",
       "      <td>2.968490</td>\n",
       "    </tr>\n",
       "    <tr>\n",
       "      <th>3</th>\n",
       "      <td>0.121212</td>\n",
       "      <td>1.524848</td>\n",
       "      <td>1.785455</td>\n",
       "      <td>3.254065</td>\n",
       "    </tr>\n",
       "    <tr>\n",
       "      <th>4</th>\n",
       "      <td>0.161616</td>\n",
       "      <td>2.219798</td>\n",
       "      <td>2.233939</td>\n",
       "      <td>3.536375</td>\n",
       "    </tr>\n",
       "  </tbody>\n",
       "</table>\n",
       "</div>"
      ],
      "text/plain": [
       "         X1        X2        X3         Y\n",
       "0  0.000000  3.440000  0.440000  4.387545\n",
       "1  0.040404  0.134949  0.888485  2.679650\n",
       "2  0.080808  0.829899  1.336970  2.968490\n",
       "3  0.121212  1.524848  1.785455  3.254065\n",
       "4  0.161616  2.219798  2.233939  3.536375"
      ]
     },
     "execution_count": 4,
     "metadata": {},
     "output_type": "execute_result"
    }
   ],
   "source": [
    "#Read in the CSV into a dataframe\n",
    "csvData = pd.read_csv(\"./D3.csv\")\n",
    "\n",
    "csvData.head(5)\n"
   ]
  },
  {
   "cell_type": "code",
   "execution_count": 5,
   "id": "4e60640f",
   "metadata": {},
   "outputs": [],
   "source": [
    "#Begin Part A Code\n"
   ]
  },
  {
   "cell_type": "code",
   "execution_count": 6,
   "id": "70bd790f",
   "metadata": {},
   "outputs": [],
   "source": [
    "#SETTINGS for Part A\n",
    "# Learn rate\n",
    "LEARN_RATE = 0.025\n",
    "# Gradient descent iterations\n",
    "ITERATIONS = 1000\n"
   ]
  },
  {
   "cell_type": "code",
   "execution_count": 7,
   "id": "a920077d",
   "metadata": {},
   "outputs": [
    {
     "data": {
      "text/plain": [
       "array([[4.38754501],\n",
       "       [2.6796499 ],\n",
       "       [2.96848981],\n",
       "       [3.25406475],\n",
       "       [3.53637472]])"
      ]
     },
     "execution_count": 7,
     "metadata": {},
     "output_type": "execute_result"
    }
   ],
   "source": [
    "#convert the dataframe into formatted np arrays\n",
    "\n",
    "csvCols = len(csvData.columns)\n",
    "csvRows = len(csvData)\n",
    "\n",
    "y = csvData.values[:,csvCols-1].reshape(csvRows, 1)\n",
    "\n",
    "y[0:5,:]\n"
   ]
  },
  {
   "cell_type": "code",
   "execution_count": 8,
   "id": "fa590f67",
   "metadata": {},
   "outputs": [
    {
     "data": {
      "text/plain": [
       "array([[1.        , 0.        ],\n",
       "       [1.        , 0.04040404],\n",
       "       [1.        , 0.08080808],\n",
       "       [1.        , 0.12121212],\n",
       "       [1.        , 0.16161616]])"
      ]
     },
     "execution_count": 8,
     "metadata": {},
     "output_type": "execute_result"
    }
   ],
   "source": [
    "#format x1 values\n",
    "x1 = np.ones((csvRows, 1))\n",
    "col1 = csvData.values[:,0].reshape(csvRows, 1)\n",
    "x1 = np.hstack((x1, col1))\n",
    "\n",
    "x1[0:5,:]\n"
   ]
  },
  {
   "cell_type": "code",
   "execution_count": 9,
   "id": "f16aa7c3",
   "metadata": {},
   "outputs": [
    {
     "data": {
      "text/plain": [
       "array([[1.        , 3.44      ],\n",
       "       [1.        , 0.1349495 ],\n",
       "       [1.        , 0.82989899],\n",
       "       [1.        , 1.52484848],\n",
       "       [1.        , 2.21979798]])"
      ]
     },
     "execution_count": 9,
     "metadata": {},
     "output_type": "execute_result"
    }
   ],
   "source": [
    "#format x2 values\n",
    "x2 = np.ones((csvRows, 1))\n",
    "col2 = csvData.values[:,1].reshape(csvRows, 1)\n",
    "x2 = np.hstack((x2, col2))\n",
    "\n",
    "x2[0:5,:]\n"
   ]
  },
  {
   "cell_type": "code",
   "execution_count": 10,
   "id": "d95b934d",
   "metadata": {},
   "outputs": [
    {
     "data": {
      "text/plain": [
       "array([[1.        , 0.44      ],\n",
       "       [1.        , 0.88848485],\n",
       "       [1.        , 1.3369697 ],\n",
       "       [1.        , 1.78545454],\n",
       "       [1.        , 2.23393939]])"
      ]
     },
     "execution_count": 10,
     "metadata": {},
     "output_type": "execute_result"
    }
   ],
   "source": [
    "#format x3 values\n",
    "x3 = np.ones((csvRows, 1))\n",
    "col3 = csvData.values[:,2].reshape(csvRows, 1)\n",
    "x3 = np.hstack((x3, col3))\n",
    "\n",
    "x3[0:5,:]\n"
   ]
  },
  {
   "cell_type": "code",
   "execution_count": 11,
   "id": "34e8aa18",
   "metadata": {},
   "outputs": [
    {
     "name": "stdout",
     "output_type": "stream",
     "text": [
      "Converged Loss for h(X1): 0.985\n",
      "Trained Model for h(X1) = -2.030 X1 + 5.905\n"
     ]
    },
    {
     "data": {
      "image/png": "[encoded data removed]",
      "text/plain": [
       "<Figure size 720x360 with 1 Axes>"
      ]
     },
     "metadata": {
      "needs_background": "light"
     },
     "output_type": "display_data"
    }
   ],
   "source": [
    "#Run the gradient descent\n",
    "theta1 = np.zeros((2,1))\n",
    "theta1, loss1 = gradient_descent(x1,y,theta1,LEARN_RATE,ITERATIONS)\n",
    "\n",
    "print(\"Converged Loss for h(X1): {0:.3f}\".format(loss1[ITERATIONS-1]))\n",
    "print(\"Trained Model for h(X1) = {0:.3f} X1 + {1:.3f}\".format(theta1[1,0],theta1[0,0]))\n",
    "\n",
    "plt.rcParams[\"figure.figsize\"] = (10,5)\n",
    "plt.grid()\n",
    "plt.xlabel('Number of iterations')\n",
    "plt.ylabel('Loss (J)')\n",
    "plt.title('Convergence of gradient descent for X1 at a={}'.format(LEARN_RATE))\n",
    "plt.plot(range(1, ITERATIONS + 1),loss1, color='blue');\n"
   ]
  },
  {
   "cell_type": "code",
   "execution_count": 12,
   "id": "5bd54126",
   "metadata": {},
   "outputs": [
    {
     "name": "stdout",
     "output_type": "stream",
     "text": [
      "Converged Loss for h(X2): 3.599\n",
      "Trained Model for h(X2) = 0.558 X2 + 0.734\n"
     ]
    },
    {
     "data": {
      "image/png": "[encoded data removed]",
      "text/plain": [
       "<Figure size 720x360 with 1 Axes>"
      ]
     },
     "metadata": {
      "needs_background": "light"
     },
     "output_type": "display_data"
    }
   ],
   "source": [
    "#Run the gradient descent\n",
    "theta2 = np.zeros((2,1))\n",
    "theta2, loss2 = gradient_descent(x2,y,theta2,LEARN_RATE,ITERATIONS)\n",
    "\n",
    "print(\"Converged Loss for h(X2): {0:.3f}\".format(loss2[ITERATIONS-1]))\n",
    "print(\"Trained Model for h(X2) = {0:.3f} X2 + {1:.3f}\".format(theta2[1,0],theta2[0,0]))\n",
    "\n",
    "plt.rcParams[\"figure.figsize\"] = (10,5)\n",
    "plt.grid()\n",
    "plt.xlabel('Number of iterations')\n",
    "plt.ylabel('Loss (J)')\n",
    "plt.title('Convergence of gradient descent for X2 at a={}'.format(LEARN_RATE))\n",
    "plt.plot(range(1, ITERATIONS + 1),loss2, color='blue');\n"
   ]
  },
  {
   "cell_type": "code",
   "execution_count": 13,
   "id": "946e18fb",
   "metadata": {
    "scrolled": false
   },
   "outputs": [
    {
     "name": "stdout",
     "output_type": "stream",
     "text": [
      "Converged Loss for X3: 3.629\n",
      "Trained Model for h(X3) = -0.517 X3 + 2.862\n"
     ]
    },
    {
     "data": {
      "image/png": "[encoded data removed]",
      "text/plain": [
       "<Figure size 720x360 with 1 Axes>"
      ]
     },
     "metadata": {
      "needs_background": "light"
     },
     "output_type": "display_data"
    }
   ],
   "source": [
    "#Run the gradient descent\n",
    "theta3 = np.zeros((2,1))\n",
    "theta3, loss3 = gradient_descent(x3,y,theta3,LEARN_RATE,ITERATIONS)\n",
    "\n",
    "print(\"Converged Loss for X3: {0:.3f}\".format(loss3[ITERATIONS-1]))\n",
    "print(\"Trained Model for h(X3) = {0:.3f} X3 + {1:.3f}\".format(theta3[1,0],theta3[0,0])) \n",
    "\n",
    "plt.rcParams[\"figure.figsize\"] = (10,5)\n",
    "plt.grid()\n",
    "plt.xlabel('Number of iterations')\n",
    "plt.ylabel('Loss (J)')\n",
    "plt.title('Convergence of gradient descent for X3 at a={}'.format(LEARN_RATE))\n",
    "plt.plot(range(1, ITERATIONS + 1),loss3, color='blue');\n"
   ]
  },
  {
   "cell_type": "code",
   "execution_count": 14,
   "id": "f0d16ac6",
   "metadata": {},
   "outputs": [],
   "source": [
    "#End Part A Code,\n",
    "#Begin Part B code\n"
   ]
  },
  {
   "cell_type": "code",
   "execution_count": 15,
   "id": "c5a74ae3",
   "metadata": {},
   "outputs": [],
   "source": [
    "#SETTINGS for Part B\n",
    "# Learn rate\n",
    "LEARN_RATE = 0.055\n",
    "# Gradient descent iterations\n",
    "ITERATIONS = 1000\n"
   ]
  },
  {
   "cell_type": "code",
   "execution_count": 16,
   "id": "592e91a7",
   "metadata": {},
   "outputs": [
    {
     "name": "stdout",
     "output_type": "stream",
     "text": [
      "first two X\n",
      "[[1.         0.         3.44       0.44      ]\n",
      " [1.         0.04040404 0.1349495  0.88848485]]\n",
      "first two Y\n",
      "[[4.38754501]\n",
      " [2.6796499 ]]\n"
     ]
    }
   ],
   "source": [
    "#convert the dataframe into formatted np arrays\n",
    "\n",
    "#initialize some variables\n",
    "csvCols = len(csvData.columns)\n",
    "csvRows = len(csvData)\n",
    "\n",
    "x = np.ones((csvRows, 1))\n",
    "y = csvData.values[:,csvCols-1].reshape(csvRows, 1)\n",
    "for i in range(0,csvCols-1): #populate x\n",
    "    col = csvData.values[:,i].reshape(csvRows, 1)\n",
    "    x = np.hstack((x, col))\n",
    "\n",
    "print(\"first two X\")\n",
    "print(x[0:2,:])\n",
    "print(\"first two Y\")\n",
    "print(y[0:2,:])\n"
   ]
  },
  {
   "cell_type": "code",
   "execution_count": 17,
   "id": "50245d21",
   "metadata": {},
   "outputs": [
    {
     "name": "stdout",
     "output_type": "stream",
     "text": [
      "Converged Loss J = 0.738\n",
      "Trained Model h(X1,X2,X3) = -2.001 X1 + 0.536 X2 + -0.262 X3 + 5.293\n"
     ]
    },
    {
     "data": {
      "text/plain": [
       "[<matplotlib.lines.Line2D at 0x1ec395bd1f0>]"
      ]
     },
     "execution_count": 17,
     "metadata": {},
     "output_type": "execute_result"
    },
    {
     "data": {
      "image/png": "[encoded data removed]",
      "text/plain": [
       "<Figure size 720x360 with 1 Axes>"
      ]
     },
     "metadata": {
      "needs_background": "light"
     },
     "output_type": "display_data"
    }
   ],
   "source": [
    "#Run the gradient descent\n",
    "theta = np.zeros((csvCols,1))\n",
    "theta, loss = gradient_descent(x,y,theta,LEARN_RATE,ITERATIONS)\n",
    "print(\"Converged Loss J = {:.3f}\".format(loss[ITERATIONS-1]))\n",
    "print(\"Trained Model h(X1,X2,X3) = {0:.3f} X1 + {1:.3f} X2 + {2:.3f} X3 + {3:.3f}\"\n",
    "      .format(float(theta[1]),float(theta[2]),float(theta[3]),float(theta[0])))\n",
    "\n",
    "plt.rcParams[\"figure.figsize\"] = (10,5)\n",
    "plt.grid()\n",
    "plt.xlabel('Number of iterations')\n",
    "plt.ylabel('Loss (J)')\n",
    "plt.title('Convergence of gradient descent for a={}'.format(LEARN_RATE))\n",
    "plt.plot(range(1, ITERATIONS + 1),loss, color='blue')\n"
   ]
  },
  {
   "cell_type": "code",
   "execution_count": 18,
   "id": "4a88e552",
   "metadata": {},
   "outputs": [
    {
     "name": "stdout",
     "output_type": "stream",
     "text": [
      "XV\n",
      "[[1. 1. 1. 1.]\n",
      " [1. 2. 0. 4.]\n",
      " [1. 3. 2. 1.]]\n",
      "h(XV)\n",
      "[[3.56577916]\n",
      " [0.24153226]\n",
      " [0.10042608]]\n"
     ]
    }
   ],
   "source": [
    "XV = np.array([[1, 1, 1],[2, 0, 4],[3, 2, 1]])\n",
    "XV = np.hstack((np.ones((3, 1)), XV))\n",
    "print(\"XV\")\n",
    "print(XV)\n",
    "H = XV.dot(theta)\n",
    "print(\"h(XV)\")\n",
    "print(H)\n"
   ]
  }
 ],
 "metadata": {
  "kernelspec": {
   "display_name": "Python 3 (ipykernel)",
   "language": "python",
   "name": "python3"
  },
  "language_info": {
   "codemirror_mode": {
    "name": "ipython",
    "version": 3
   },
   "file_extension": ".py",
   "mimetype": "text/x-python",
   "name": "python",
   "nbconvert_exporter": "python",
   "pygments_lexer": "ipython3",
   "version": "3.9.12"
  }
 },
 "nbformat": 4,
 "nbformat_minor": 5
}
