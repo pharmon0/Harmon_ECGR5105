{
 "cells": [
  {
   "cell_type": "code",
   "execution_count": 1,
   "id": "1c5fe487",
   "metadata": {},
   "outputs": [],
   "source": [
    "import numpy as np\n",
    "import pandas as pd\n",
    "import matplotlib.pyplot as plt"
   ]
  },
  {
   "cell_type": "code",
   "execution_count": 2,
   "id": "b7cd5e26",
   "metadata": {},
   "outputs": [],
   "source": [
    "#function to calculate the loss of a model\n",
    "def get_loss(x, y, theta):\n",
    "    \"\"\"x is input data (m x n)\n",
    "       y is ground truths (m x 1)\n",
    "       theta is model params (n x 1)\"\"\"\n",
    "    h = x.dot(theta)\n",
    "    error = np.subtract(h, y)\n",
    "    sqError = np.square(error)\n",
    "    sumSqError = np.sum(sqError)\n",
    "    avgSqError = sumSqError /(2 * len(y)) \n",
    "    return avgSqError"
   ]
  },
  {
   "cell_type": "code",
   "execution_count": 3,
   "id": "d830f262",
   "metadata": {},
   "outputs": [],
   "source": [
    "#Function to run the gradient descent algorithm\n",
    "def gradient_descent(x, y, theta, a, iterations):\n",
    "    \"\"\"x is input data (m x n)\n",
    "       y is ground truths (m x 1)\n",
    "       theta is model params (n x 1)\n",
    "       a is learn rate (scalar)\n",
    "       iterations. duh. (scalar)\"\"\"\n",
    "    losses = np.zeros(iterations)\n",
    "    for i in range(iterations):\n",
    "        h = x.dot(theta)\n",
    "        error = np.subtract(h, y)\n",
    "        delta = x.transpose().dot(error)\n",
    "        grad = delta / len(y) \n",
    "        theta = theta - (a * grad)\n",
    "        losses[i] = get_loss(x, y, theta)\n",
    "    return theta, losses"
   ]
  },
  {
   "cell_type": "code",
   "execution_count": 4,
   "id": "f348bbb8",
   "metadata": {},
   "outputs": [
    {
     "name": "stdout",
     "output_type": "stream",
     "text": [
      "CSV Data\n",
      "         X1        X2        X3         Y\n",
      "0  0.000000  3.440000  0.440000  4.387545\n",
      "1  0.040404  0.134949  0.888485  2.679650\n"
     ]
    }
   ],
   "source": [
    "#Read in the CSV into a dataframe\n",
    "csvData = pd.read_csv(\"./D3.csv\")\n",
    "\n",
    "print(\"CSV Data\")\n",
    "print(csvData.head(2))"
   ]
  },
  {
   "cell_type": "code",
   "execution_count": 5,
   "id": "a920077d",
   "metadata": {},
   "outputs": [
    {
     "name": "stdout",
     "output_type": "stream",
     "text": [
      "first two X1\n",
      "[[1.         0.        ]\n",
      " [1.         0.04040404]]\n",
      "first two X2\n",
      "[[1.        3.44     ]\n",
      " [1.        0.1349495]]\n",
      "first two X3\n",
      "[[1.         0.44      ]\n",
      " [1.         0.88848485]]\n",
      "first two Y\n",
      "[[4.38754501]\n",
      " [2.6796499 ]]\n"
     ]
    }
   ],
   "source": [
    "#convert the dataframe into formatted np arrays\n",
    "\n",
    "#initialize some variables\n",
    "csvCols = len(csvData.columns)\n",
    "csvRows = len(csvData)\n",
    "\n",
    "x1 = np.ones((csvRows, 1))\n",
    "col1 = csvData.values[:,0].reshape(csvRows, 1)\n",
    "x1 = np.hstack((x1, col1))\n",
    "x2 = np.ones((csvRows, 1))\n",
    "col2 = csvData.values[:,1].reshape(csvRows, 1)\n",
    "x2 = np.hstack((x2, col2))\n",
    "x3 = np.ones((csvRows, 1))\n",
    "col3 = csvData.values[:,2].reshape(csvRows, 1)\n",
    "x3 = np.hstack((x3, col3))\n",
    "y = csvData.values[:,csvCols-1].reshape(csvRows, 1)\n",
    "\n",
    "print(\"first two X1\")\n",
    "print(x1[0:2,:])\n",
    "print(\"first two X2\")\n",
    "print(x2[0:2,:])\n",
    "print(\"first two X3\")\n",
    "print(x3[0:2,:])\n",
    "print(\"first two Y\")\n",
    "print(y[0:2,:])"
   ]
  },
  {
   "cell_type": "code",
   "execution_count": 6,
   "id": "8b29aa8a",
   "metadata": {},
   "outputs": [
    {
     "name": "stdout",
     "output_type": "stream",
     "text": [
      "Initial Theta1\n",
      "[[0.]\n",
      " [0.]]\n",
      "Initial Theta2\n",
      "[[0.]\n",
      " [0.]]\n",
      "Initial Theta3\n",
      "[[0.]\n",
      " [0.]]\n"
     ]
    }
   ],
   "source": [
    "#Populate the initial algorithm values\n",
    "\n",
    "#SETTINGS\n",
    "# Initial Theta Values (constant across array)\n",
    "THETA_INIT = 0\n",
    "# Learn rate\n",
    "LEARN_RATE = 0.025\n",
    "# Gradient descent iterations\n",
    "ITERATIONS = 750\n",
    "\n",
    "initialTheta1 = THETA_INIT * np.ones((2,1))\n",
    "initialTheta2 = THETA_INIT * np.ones((2,1))\n",
    "initialTheta3 = THETA_INIT * np.ones((2,1))\n",
    "\n",
    "print(\"Initial Theta1\")\n",
    "print(initialTheta1)\n",
    "print(\"Initial Theta2\")\n",
    "print(initialTheta2)\n",
    "print(\"Initial Theta3\")\n",
    "print(initialTheta3)"
   ]
  },
  {
   "cell_type": "code",
   "execution_count": 7,
   "id": "34e8aa18",
   "metadata": {},
   "outputs": [
    {
     "data": {
      "text/plain": [
       "[<matplotlib.lines.Line2D at 0x2bbfe535760>]"
      ]
     },
     "execution_count": 7,
     "metadata": {},
     "output_type": "execute_result"
    },
    {
     "data": {
      "image/png": "[encoded data removed]",
      "text/plain": [
       "<Figure size 720x360 with 1 Axes>"
      ]
     },
     "metadata": {
      "needs_background": "light"
     },
     "output_type": "display_data"
    }
   ],
   "source": [
    "#Run the gradient descent\n",
    "\n",
    "finalTheta1, lossHistory1 = gradient_descent(x1,y,initialTheta1,LEARN_RATE,ITERATIONS)\n",
    "\n",
    "plt.rcParams[\"figure.figsize\"] = (10,5)\n",
    "plt.grid()\n",
    "plt.xlabel('Number of iterations')\n",
    "plt.ylabel('Loss (J)')\n",
    "plt.title('Convergence of gradient descent 1')\n",
    "plt.plot(range(1, ITERATIONS + 1),lossHistory1, color='blue')"
   ]
  },
  {
   "cell_type": "code",
   "execution_count": 8,
   "id": "5bd54126",
   "metadata": {},
   "outputs": [
    {
     "data": {
      "text/plain": [
       "[<matplotlib.lines.Line2D at 0x2bb810a5790>]"
      ]
     },
     "execution_count": 8,
     "metadata": {},
     "output_type": "execute_result"
    },
    {
     "data": {
      "image/png": "[encoded data removed]",
      "text/plain": [
       "<Figure size 720x360 with 1 Axes>"
      ]
     },
     "metadata": {
      "needs_background": "light"
     },
     "output_type": "display_data"
    }
   ],
   "source": [
    "#Run the gradient descent\n",
    "\n",
    "finalTheta2, lossHistory2 = gradient_descent(x2,y,initialTheta2,LEARN_RATE,ITERATIONS)\n",
    "\n",
    "\n",
    "plt.rcParams[\"figure.figsize\"] = (10,5)\n",
    "plt.grid()\n",
    "plt.xlabel('Number of iterations')\n",
    "plt.ylabel('Loss (J)')\n",
    "plt.title('Convergence of gradient descent 2')\n",
    "plt.plot(range(1, ITERATIONS + 1),lossHistory2, color='blue')"
   ]
  },
  {
   "cell_type": "code",
   "execution_count": 9,
   "id": "946e18fb",
   "metadata": {},
   "outputs": [
    {
     "data": {
      "text/plain": [
       "[<matplotlib.lines.Line2D at 0x2bb8112c250>]"
      ]
     },
     "execution_count": 9,
     "metadata": {},
     "output_type": "execute_result"
    },
    {
     "data": {
      "image/png": "[encoded data removed]",
      "text/plain": [
       "<Figure size 720x360 with 1 Axes>"
      ]
     },
     "metadata": {
      "needs_background": "light"
     },
     "output_type": "display_data"
    }
   ],
   "source": [
    "#Run the gradient descent\n",
    "\n",
    "finalTheta3, lossHistory3 = gradient_descent(x3,y,initialTheta3,LEARN_RATE,ITERATIONS)\n",
    "\n",
    "plt.rcParams[\"figure.figsize\"] = (10,5)\n",
    "plt.grid()\n",
    "plt.xlabel('Number of iterations')\n",
    "plt.ylabel('Loss (J)')\n",
    "plt.title('Convergence of gradient descent 3')\n",
    "plt.plot(range(1, ITERATIONS + 1),lossHistory3, color='blue')"
   ]
  },
  {
   "cell_type": "code",
   "execution_count": 18,
   "id": "72b39d9a",
   "metadata": {},
   "outputs": [
    {
     "name": "stdout",
     "output_type": "stream",
     "text": [
      "Converged Loss for X1: 0.986\n",
      "   h(X1) = -2.003 X1 + 5.837\n",
      "Converged Loss for X2: 3.599\n",
      "   h(X2) = 0.560 X2 + 0.729\n",
      "Converged Loss for X3: 3.630\n",
      "   h(X3) = -0.505 X3 + 2.833\n"
     ]
    }
   ],
   "source": [
    "#Print convergent losses and output models for each X\n",
    "print(\"Converged Loss for X1: {0:.3f}\".format(lossHistory1[ITERATIONS-1]))\n",
    "print(\"   h(X1) = {0:.3f} X1 + {1:.3f}\".format(finalTheta1[1,0],finalTheta1[0,0]))\n",
    "print(\"Converged Loss for X2: {0:.3f}\".format(lossHistory2[ITERATIONS-1]))\n",
    "print(\"   h(X2) = {0:.3f} X2 + {1:.3f}\".format(finalTheta2[1,0],finalTheta2[0,0]))\n",
    "print(\"Converged Loss for X3: {0:.3f}\".format(lossHistory3[ITERATIONS-1]))\n",
    "print(\"   h(X3) = {0:.3f} X3 + {1:.3f}\".format(finalTheta3[1,0],finalTheta3[0,0])) "
   ]
  },
  {
   "cell_type": "code",
   "execution_count": 22,
   "id": "fe5d6406",
   "metadata": {},
   "outputs": [
    {
     "name": "stdout",
     "output_type": "stream",
     "text": [
      "H(V1)\n",
      "[[ 3.8343202 ]\n",
      " [ 1.83121627]\n",
      " [-0.17188766]]\n",
      "H(V2)\n",
      "[[1.2893976 ]\n",
      " [0.72906877]\n",
      " [1.84972643]]\n",
      "H(V3)\n",
      "[[2.32747087]\n",
      " [0.81208431]\n",
      " [2.32747087]]\n"
     ]
    }
   ],
   "source": [
    "#testing\n",
    "V1 = np.ones((3, 1))\n",
    "V2 = np.ones((3, 1))\n",
    "V3 = np.ones((3, 1))\n",
    "V1 = np.hstack((V1, np.array([1, 2, 3]).reshape([3,1])))\n",
    "V2 = np.hstack((V2, np.array([1, 0, 2]).reshape([3,1])))\n",
    "V3 = np.hstack((V3, np.array([1, 4, 1]).reshape([3,1])))\n",
    "\n",
    "H1 = V1.dot(finalTheta1)\n",
    "H2 = V2.dot(finalTheta2)\n",
    "H3 = V3.dot(finalTheta3)\n",
    "\n",
    "print(\"H(V1)\")\n",
    "print(H1)\n",
    "print(\"H(V2)\")\n",
    "print(H2)\n",
    "print(\"H(V3)\")\n",
    "print(H3)"
   ]
  },
  {
   "cell_type": "code",
   "execution_count": null,
   "id": "58be4123",
   "metadata": {},
   "outputs": [],
   "source": []
  }
 ],
 "metadata": {
  "kernelspec": {
   "display_name": "Python 3 (ipykernel)",
   "language": "python",
   "name": "python3"
  },
  "language_info": {
   "codemirror_mode": {
    "name": "ipython",
    "version": 3
   },
   "file_extension": ".py",
   "mimetype": "text/x-python",
   "name": "python",
   "nbconvert_exporter": "python",
   "pygments_lexer": "ipython3",
   "version": "3.9.12"
  }
 },
 "nbformat": 4,
 "nbformat_minor": 5
}
