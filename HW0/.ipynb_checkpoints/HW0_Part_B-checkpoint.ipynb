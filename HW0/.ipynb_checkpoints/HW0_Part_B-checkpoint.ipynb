{
 "cells": [
  {
   "cell_type": "code",
   "execution_count": 1,
   "id": "7a667586",
   "metadata": {},
   "outputs": [],
   "source": [
    "import numpy as np\n",
    "import pandas as pd\n",
    "import matplotlib.pyplot as plt"
   ]
  },
  {
   "cell_type": "code",
   "execution_count": 2,
   "id": "a7565030",
   "metadata": {},
   "outputs": [],
   "source": [
    "#SETTINGS\n",
    "# Learn rate\n",
    "LEARN_RATE = 0.055\n",
    "# Gradient descent iterations\n",
    "ITERATIONS = 1000"
   ]
  },
  {
   "cell_type": "code",
   "execution_count": 3,
   "id": "4a17b0d3",
   "metadata": {},
   "outputs": [],
   "source": [
    "#function to calculate the loss of a model\n",
    "def get_loss(x, y, theta):\n",
    "    \"\"\"x is input data (m x n)\n",
    "       y is ground truths (m x 1)\n",
    "       theta is model params (n x 1)\"\"\"\n",
    "    h = x.dot(theta)\n",
    "    error = np.subtract(h, y)\n",
    "    sqError = np.square(error)\n",
    "    sumSqError = np.sum(sqError)\n",
    "    avgSqError = sumSqError /(2 * len(y)) \n",
    "    return avgSqError"
   ]
  },
  {
   "cell_type": "code",
   "execution_count": 4,
   "id": "ac17da9b",
   "metadata": {},
   "outputs": [],
   "source": [
    "#Function to run the gradient descent algorithm\n",
    "def gradient_descent(x, y, theta, a, iterations):\n",
    "    \"\"\"x is input data (m x n)\n",
    "       y is ground truths (m x 1)\n",
    "       theta is model params (n x 1)\n",
    "       a is learn rate (scalar)\n",
    "       iterations. duh. (scalar)\"\"\"\n",
    "    losses = np.zeros(iterations)\n",
    "    for i in range(iterations):\n",
    "        h = x.dot(theta)\n",
    "        error = np.subtract(h, y)\n",
    "        delta = x.transpose().dot(error)\n",
    "        grad = delta / len(y) \n",
    "        theta = theta - (a * grad)\n",
    "        losses[i] = get_loss(x, y, theta)\n",
    "    return theta, losses"
   ]
  },
  {
   "cell_type": "code",
   "execution_count": 5,
   "id": "171d41e3",
   "metadata": {},
   "outputs": [
    {
     "name": "stdout",
     "output_type": "stream",
     "text": [
      "CSV Data\n",
      "         X1        X2        X3         Y\n",
      "0  0.000000  3.440000  0.440000  4.387545\n",
      "1  0.040404  0.134949  0.888485  2.679650\n",
      "2  0.080808  0.829899  1.336970  2.968490\n",
      "3  0.121212  1.524848  1.785455  3.254065\n",
      "4  0.161616  2.219798  2.233939  3.536375\n"
     ]
    }
   ],
   "source": [
    "#Read in the CSV into a dataframe\n",
    "csvData = pd.read_csv(\"./D3.csv\")\n",
    "\n",
    "print(\"CSV Data\")\n",
    "print(csvData.head(5))"
   ]
  },
  {
   "cell_type": "code",
   "execution_count": 6,
   "id": "a508b0b1",
   "metadata": {},
   "outputs": [
    {
     "name": "stdout",
     "output_type": "stream",
     "text": [
      "first two X\n",
      "[[1.         0.         3.44       0.44      ]\n",
      " [1.         0.04040404 0.1349495  0.88848485]]\n",
      "first two Y\n",
      "[[4.38754501]\n",
      " [2.6796499 ]]\n"
     ]
    }
   ],
   "source": [
    "#convert the dataframe into formatted np arrays\n",
    "\n",
    "#initialize some variables\n",
    "csvCols = len(csvData.columns)\n",
    "csvRows = len(csvData)\n",
    "\n",
    "x = np.ones((csvRows, 1))\n",
    "y = csvData.values[:,csvCols-1].reshape(csvRows, 1)\n",
    "for i in range(0,csvCols-1): #populate x\n",
    "    col = csvData.values[:,i].reshape(csvRows, 1)\n",
    "    x = np.hstack((x, col))\n",
    "\n",
    "print(\"first two X\")\n",
    "print(x[0:2,:])\n",
    "print(\"first two Y\")\n",
    "print(y[0:2,:])"
   ]
  },
  {
   "cell_type": "code",
   "execution_count": 7,
   "id": "4f9cd923",
   "metadata": {},
   "outputs": [
    {
     "name": "stdout",
     "output_type": "stream",
     "text": [
      "Converged Loss J = 0.738\n",
      "Trained Model h(X1,X2,X3) = -2.001 X1 + 0.536 X2 + -0.262 X3 + 5.293\n"
     ]
    },
    {
     "data": {
      "text/plain": [
       "[<matplotlib.lines.Line2D at 0x23e0258fdf0>]"
      ]
     },
     "execution_count": 7,
     "metadata": {},
     "output_type": "execute_result"
    },
    {
     "data": {
      "image/png": "[encoded data removed]",
      "text/plain": [
       "<Figure size 720x360 with 1 Axes>"
      ]
     },
     "metadata": {
      "needs_background": "light"
     },
     "output_type": "display_data"
    }
   ],
   "source": [
    "#Run the gradient descent\n",
    "theta = np.zeros((csvCols,1))\n",
    "theta, loss = gradient_descent(x,y,theta,LEARN_RATE,ITERATIONS)\n",
    "print(\"Converged Loss J = {:.3f}\".format(loss[ITERATIONS-1]))\n",
    "print(\"Trained Model h(X1,X2,X3) = {0:.3f} X1 + {1:.3f} X2 + {2:.3f} X3 + {3:.3f}\"\n",
    "      .format(float(theta[1]),float(theta[2]),float(theta[3]),float(theta[0])))\n",
    "\n",
    "plt.rcParams[\"figure.figsize\"] = (10,5)\n",
    "plt.grid()\n",
    "plt.xlabel('Number of iterations')\n",
    "plt.ylabel('Loss (J)')\n",
    "plt.title('Convergence of gradient descent for a={}'.format(LEARN_RATE))\n",
    "plt.plot(range(1, ITERATIONS + 1),loss, color='blue')"
   ]
  },
  {
   "cell_type": "code",
   "execution_count": 8,
   "id": "0c49390f-cc4a-4864-bf16-01146be1d4d3",
   "metadata": {},
   "outputs": [
    {
     "name": "stdout",
     "output_type": "stream",
     "text": [
      "XV\n",
      "[[1. 1. 1. 1.]\n",
      " [1. 2. 0. 4.]\n",
      " [1. 3. 2. 1.]]\n",
      "h(XV)\n",
      "[[3.56577916]\n",
      " [0.24153226]\n",
      " [0.10042608]]\n"
     ]
    }
   ],
   "source": [
    "XV = np.array([[1, 1, 1],[2, 0, 4],[3, 2, 1]])\n",
    "XV = np.hstack((np.ones((3, 1)), XV))\n",
    "print(\"XV\")\n",
    "print(XV)\n",
    "H = XV.dot(theta)\n",
    "print(\"h(XV)\")\n",
    "print(H)"
   ]
  },
  {
   "cell_type": "code",
   "execution_count": null,
   "id": "eea56317",
   "metadata": {},
   "outputs": [],
   "source": []
  }
 ],
 "metadata": {
  "kernelspec": {
   "display_name": "Python 3 (ipykernel)",
   "language": "python",
   "name": "python3"
  },
  "language_info": {
   "codemirror_mode": {
    "name": "ipython",
    "version": 3
   },
   "file_extension": ".py",
   "mimetype": "text/x-python",
   "name": "python",
   "nbconvert_exporter": "python",
   "pygments_lexer": "ipython3",
   "version": "3.9.12"
  }
 },
 "nbformat": 4,
 "nbformat_minor": 5
}
