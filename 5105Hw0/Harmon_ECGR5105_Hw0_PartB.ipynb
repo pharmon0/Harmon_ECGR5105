{
 "cells": [
  {
   "cell_type": "code",
   "execution_count": 1,
   "id": "7a667586",
   "metadata": {},
   "outputs": [],
   "source": [
    "import numpy as np\n",
    "import pandas as pd\n",
    "import matplotlib.pyplot as plt"
   ]
  },
  {
   "cell_type": "code",
   "execution_count": 2,
   "id": "4a17b0d3",
   "metadata": {},
   "outputs": [],
   "source": [
    "#function to calculate the loss of a model\n",
    "def get_loss(x, y, theta):\n",
    "    \"\"\"x is input data (m x n)\n",
    "       y is ground truths (m x 1)\n",
    "       theta is model params (n x 1)\"\"\"\n",
    "    h = x.dot(theta)\n",
    "    error = np.subtract(h, y)\n",
    "    sqError = np.square(error)\n",
    "    sumSqError = np.sum(sqError)\n",
    "    avgSqError = sumSqError /(2 * len(y)) \n",
    "    return avgSqError"
   ]
  },
  {
   "cell_type": "code",
   "execution_count": 3,
   "id": "ac17da9b",
   "metadata": {},
   "outputs": [],
   "source": [
    "#Function to run the gradient descent algorithm\n",
    "def gradient_descent(x, y, theta, a, iterations):\n",
    "    \"\"\"x is input data (m x n)\n",
    "       y is ground truths (m x 1)\n",
    "       theta is model params (n x 1)\n",
    "       a is learn rate (scalar)\n",
    "       iterations. duh. (scalar)\"\"\"\n",
    "    losses = np.zeros(iterations)\n",
    "    for i in range(iterations):\n",
    "        h = x.dot(theta)\n",
    "        error = np.subtract(h, y)\n",
    "        delta = x.transpose().dot(error)\n",
    "        grad = delta / len(y) \n",
    "        theta = theta - (a * grad)\n",
    "        losses[i] = get_loss(x, y, theta)\n",
    "    return theta, losses"
   ]
  },
  {
   "cell_type": "code",
   "execution_count": 4,
   "id": "171d41e3",
   "metadata": {},
   "outputs": [
    {
     "name": "stdout",
     "output_type": "stream",
     "text": [
      "CSV Data\n",
      "         X1        X2        X3         Y\n",
      "0  0.000000  3.440000  0.440000  4.387545\n",
      "1  0.040404  0.134949  0.888485  2.679650\n"
     ]
    }
   ],
   "source": [
    "#Read in the CSV into a dataframe\n",
    "csvData = pd.read_csv(\"./D3.csv\")\n",
    "\n",
    "print(\"CSV Data\")\n",
    "print(csvData.head(2))"
   ]
  },
  {
   "cell_type": "code",
   "execution_count": 5,
   "id": "a508b0b1",
   "metadata": {},
   "outputs": [
    {
     "name": "stdout",
     "output_type": "stream",
     "text": [
      "first two X\n",
      "[[1.         0.         3.44       0.44      ]\n",
      " [1.         0.04040404 0.1349495  0.88848485]]\n",
      "first two Y\n",
      "[[4.38754501]\n",
      " [2.6796499 ]]\n"
     ]
    }
   ],
   "source": [
    "#convert the dataframe into formatted np arrays\n",
    "\n",
    "#initialize some variables\n",
    "csvCols = len(csvData.columns)\n",
    "csvRows = len(csvData)\n",
    "\n",
    "x = np.ones((csvRows, 1))\n",
    "y = csvData.values[:,csvCols-1].reshape(csvRows, 1)\n",
    "for i in range(csvCols-1): #populate x\n",
    "    col = csvData.values[:,i].reshape(csvRows, 1)\n",
    "    x = np.hstack((x, col))\n",
    "\n",
    "print(\"first two X\")\n",
    "print(x[0:2,:])\n",
    "print(\"first two Y\")\n",
    "print(y[0:2,:])"
   ]
  },
  {
   "cell_type": "code",
   "execution_count": 6,
   "id": "22886eca",
   "metadata": {},
   "outputs": [
    {
     "name": "stdout",
     "output_type": "stream",
     "text": [
      "Initial Thetas\n",
      "[[0.]\n",
      " [0.]\n",
      " [0.]\n",
      " [0.]]\n"
     ]
    }
   ],
   "source": [
    "#Populate the initial algorithm values\n",
    "\n",
    "#SETTINGS\n",
    "# Initial Theta Values (constant across array)\n",
    "THETA_INIT = 0\n",
    "# Learn rate\n",
    "LEARN_RATE = 0.025\n",
    "# Gradient descent iterations\n",
    "ITERATIONS = 750\n",
    "\n",
    "initialTheta = THETA_INIT * np.ones((csvCols,1))\n",
    "\n",
    "print(\"Initial Thetas\")\n",
    "print(initialTheta)"
   ]
  },
  {
   "cell_type": "code",
   "execution_count": 7,
   "id": "4f9cd923",
   "metadata": {},
   "outputs": [
    {
     "name": "stdout",
     "output_type": "stream",
     "text": [
      "Final Thetas\n",
      "[[ 4.51518222]\n",
      " [-1.89084942]\n",
      " [ 0.66459065]\n",
      " [-0.14848691]]\n"
     ]
    }
   ],
   "source": [
    "#Run the gradient descent\n",
    "\n",
    "finalTheta, lossHistory = gradient_descent(x,y,initialTheta,LEARN_RATE,ITERATIONS)\n",
    "print(\"Final Thetas\")\n",
    "print(finalTheta)"
   ]
  },
  {
   "cell_type": "code",
   "execution_count": 8,
   "id": "273d3e9f",
   "metadata": {},
   "outputs": [
    {
     "data": {
      "text/plain": [
       "Text(0.5, 1.0, 'Convergence of gradient descent')"
      ]
     },
     "execution_count": 8,
     "metadata": {},
     "output_type": "execute_result"
    },
    {
     "data": {
      "image/png": "[encoded data removed]",
      "text/plain": [
       "<Figure size 432x288 with 1 Axes>"
      ]
     },
     "metadata": {
      "needs_background": "light"
     },
     "output_type": "display_data"
    }
   ],
   "source": [
    "plt.plot(range(1, ITERATIONS + 1),lossHistory, color='blue')\n",
    "plt.rcParams[\"figure.figsize\"] = (20,10)\n",
    "plt.grid()\n",
    "plt.xlabel('Number of iterations')\n",
    "plt.ylabel('Loss (J)')\n",
    "plt.title('Convergence of gradient descent')"
   ]
  },
  {
   "cell_type": "code",
   "execution_count": 9,
   "id": "0c49390f-cc4a-4864-bf16-01146be1d4d3",
   "metadata": {},
   "outputs": [
    {
     "name": "stdout",
     "output_type": "stream",
     "text": [
      "V = [[1 1 1]\n",
      " [2 0 4]\n",
      " [3 2 1]]\n"
     ]
    }
   ],
   "source": [
    "V = np.array([1, 2, 3]).reshape([3,1])\n",
    "V = np.hstack((V, np.array([1, 0, 2]).reshape([3,1])))\n",
    "V = np.hstack((V, np.array([1, 4, 1]).reshape([3,1])))\n",
    "print(\"V = {0}\".format(V))\n",
    "V = np.hstack((np.ones((3, 1)), V))"
   ]
  },
  {
   "cell_type": "code",
   "execution_count": 10,
   "id": "7aed4f9f-b3f9-4240-92a0-c5606ad215ff",
   "metadata": {},
   "outputs": [
    {
     "name": "stdout",
     "output_type": "stream",
     "text": [
      "H(V) = [[3.14043654 0.13953574 0.02332835]]\n"
     ]
    }
   ],
   "source": [
    "H = V.dot(finalTheta)\n",
    "print(\"H(V) = {0}\".format(H.reshape([1,3])))"
   ]
  },
  {
   "cell_type": "code",
   "execution_count": 11,
   "id": "7a385449-1e08-4b27-884b-e51c9063b99e",
   "metadata": {},
   "outputs": [
    {
     "name": "stdout",
     "output_type": "stream",
     "text": [
      "h(X1,X2,X3) = -1.891 X1 + 0.665 X2 + -0.148 X3 + 4.515\n"
     ]
    }
   ],
   "source": [
    "print(\"h(X1,X2,X3) = {0:.3f} X1 + {1:.3f} X2 + {2:.3f} X3 + {3:.3f}\".format(float(finalTheta[1]),float(finalTheta[2]),float(finalTheta[3]),float(finalTheta[0])))"
   ]
  },
  {
   "cell_type": "code",
   "execution_count": null,
   "id": "c6b11feb-6eed-4a22-aa84-f55c82681d3d",
   "metadata": {},
   "outputs": [],
   "source": []
  }
 ],
 "metadata": {
  "kernelspec": {
   "display_name": "Python 3 (ipykernel)",
   "language": "python",
   "name": "python3"
  },
  "language_info": {
   "codemirror_mode": {
    "name": "ipython",
    "version": 3
   },
   "file_extension": ".py",
   "mimetype": "text/x-python",
   "name": "python",
   "nbconvert_exporter": "python",
   "pygments_lexer": "ipython3",
   "version": "3.9.12"
  }
 },
 "nbformat": 4,
 "nbformat_minor": 5
}
